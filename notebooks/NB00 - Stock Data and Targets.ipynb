{
 "cells": [
  {
   "cell_type": "code",
   "execution_count": 1,
   "metadata": {},
   "outputs": [],
   "source": [
    "import pandas as pd\n",
    "import yfinance as yf"
   ]
  },
  {
   "cell_type": "code",
   "execution_count": 6,
   "metadata": {},
   "outputs": [],
   "source": [
    "TICKER = 'PETR4.SA'"
   ]
  },
  {
   "cell_type": "code",
   "execution_count": 9,
   "metadata": {},
   "outputs": [],
   "source": [
    "ticker_info = yf.Ticker(TICKER)\n",
    "ticker_data = ticker_info.history(period=\"5y\")"
   ]
  },
  {
   "cell_type": "code",
   "execution_count": 10,
   "metadata": {},
   "outputs": [
    {
     "data": {
      "text/html": [
       "<div>\n",
       "<style scoped>\n",
       "    .dataframe tbody tr th:only-of-type {\n",
       "        vertical-align: middle;\n",
       "    }\n",
       "\n",
       "    .dataframe tbody tr th {\n",
       "        vertical-align: top;\n",
       "    }\n",
       "\n",
       "    .dataframe thead th {\n",
       "        text-align: right;\n",
       "    }\n",
       "</style>\n",
       "<table border=\"1\" class=\"dataframe\">\n",
       "  <thead>\n",
       "    <tr style=\"text-align: right;\">\n",
       "      <th></th>\n",
       "      <th>Open</th>\n",
       "      <th>High</th>\n",
       "      <th>Low</th>\n",
       "      <th>Close</th>\n",
       "      <th>Volume</th>\n",
       "      <th>Dividends</th>\n",
       "      <th>Stock Splits</th>\n",
       "    </tr>\n",
       "    <tr>\n",
       "      <th>Date</th>\n",
       "      <th></th>\n",
       "      <th></th>\n",
       "      <th></th>\n",
       "      <th></th>\n",
       "      <th></th>\n",
       "      <th></th>\n",
       "      <th></th>\n",
       "    </tr>\n",
       "  </thead>\n",
       "  <tbody>\n",
       "    <tr>\n",
       "      <th>2019-01-02 00:00:00-02:00</th>\n",
       "      <td>8.032427</td>\n",
       "      <td>8.620166</td>\n",
       "      <td>7.936252</td>\n",
       "      <td>8.570297</td>\n",
       "      <td>104534800</td>\n",
       "      <td>0.0</td>\n",
       "      <td>0.0</td>\n",
       "    </tr>\n",
       "    <tr>\n",
       "      <th>2019-01-03 00:00:00-02:00</th>\n",
       "      <td>8.534678</td>\n",
       "      <td>8.841014</td>\n",
       "      <td>8.477685</td>\n",
       "      <td>8.780459</td>\n",
       "      <td>95206400</td>\n",
       "      <td>0.0</td>\n",
       "      <td>0.0</td>\n",
       "    </tr>\n",
       "    <tr>\n",
       "      <th>2019-01-04 00:00:00-02:00</th>\n",
       "      <td>8.851699</td>\n",
       "      <td>8.883758</td>\n",
       "      <td>8.716341</td>\n",
       "      <td>8.805392</td>\n",
       "      <td>72119800</td>\n",
       "      <td>0.0</td>\n",
       "      <td>0.0</td>\n",
       "    </tr>\n",
       "    <tr>\n",
       "      <th>2019-01-07 00:00:00-02:00</th>\n",
       "      <td>8.851700</td>\n",
       "      <td>9.232839</td>\n",
       "      <td>8.798269</td>\n",
       "      <td>8.944313</td>\n",
       "      <td>121711900</td>\n",
       "      <td>0.0</td>\n",
       "      <td>0.0</td>\n",
       "    </tr>\n",
       "    <tr>\n",
       "      <th>2019-01-08 00:00:00-02:00</th>\n",
       "      <td>9.047613</td>\n",
       "      <td>9.054737</td>\n",
       "      <td>8.823204</td>\n",
       "      <td>8.890882</td>\n",
       "      <td>68761800</td>\n",
       "      <td>0.0</td>\n",
       "      <td>0.0</td>\n",
       "    </tr>\n",
       "  </tbody>\n",
       "</table>\n",
       "</div>"
      ],
      "text/plain": [
       "                               Open      High       Low     Close     Volume  \\\n",
       "Date                                                                           \n",
       "2019-01-02 00:00:00-02:00  8.032427  8.620166  7.936252  8.570297  104534800   \n",
       "2019-01-03 00:00:00-02:00  8.534678  8.841014  8.477685  8.780459   95206400   \n",
       "2019-01-04 00:00:00-02:00  8.851699  8.883758  8.716341  8.805392   72119800   \n",
       "2019-01-07 00:00:00-02:00  8.851700  9.232839  8.798269  8.944313  121711900   \n",
       "2019-01-08 00:00:00-02:00  9.047613  9.054737  8.823204  8.890882   68761800   \n",
       "\n",
       "                           Dividends  Stock Splits  \n",
       "Date                                                \n",
       "2019-01-02 00:00:00-02:00        0.0           0.0  \n",
       "2019-01-03 00:00:00-02:00        0.0           0.0  \n",
       "2019-01-04 00:00:00-02:00        0.0           0.0  \n",
       "2019-01-07 00:00:00-02:00        0.0           0.0  \n",
       "2019-01-08 00:00:00-02:00        0.0           0.0  "
      ]
     },
     "execution_count": 10,
     "metadata": {},
     "output_type": "execute_result"
    }
   ],
   "source": [
    "ticker_data.head()"
   ]
  }
 ],
 "metadata": {
  "kernelspec": {
   "display_name": "invest-radar-tjEWD_go-py3.10",
   "language": "python",
   "name": "python3"
  },
  "language_info": {
   "codemirror_mode": {
    "name": "ipython",
    "version": 3
   },
   "file_extension": ".py",
   "mimetype": "text/x-python",
   "name": "python",
   "nbconvert_exporter": "python",
   "pygments_lexer": "ipython3",
   "version": "3.10.11"
  }
 },
 "nbformat": 4,
 "nbformat_minor": 2
}
